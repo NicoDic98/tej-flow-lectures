{
 "cells": [
  {
   "cell_type": "markdown",
   "id": "3a109ed1-0527-42e9-904f-7c5919e36f72",
   "metadata": {},
   "source": [
    "# Setup"
   ]
  },
  {
   "cell_type": "code",
   "execution_count": null,
   "id": "afc8d4d0-6e0c-43ad-80b1-d890a5db1135",
   "metadata": {},
   "outputs": [],
   "source": [
    "import numpy as np\n",
    "import matplotlib.pyplot as plt\n",
    "import torch\n",
    "import tqdm.auto as tqdm\n",
    "%matplotlib widget"
   ]
  },
  {
   "cell_type": "code",
   "execution_count": null,
   "id": "a0763da9-bba6-4cb8-83f3-5e59476baf1a",
   "metadata": {},
   "outputs": [],
   "source": [
    "def grab(x):\n",
    "    \"\"\"Convert torch tensor to numpy array\"\"\"\n",
    "    return x.detach().cpu().numpy()"
   ]
  },
  {
   "cell_type": "markdown",
   "id": "20ee512c-ea42-4a7a-9cfa-ca87665d8aac",
   "metadata": {
    "jp-MarkdownHeadingCollapsed": true
   },
   "source": [
    "# Phi4 theory"
   ]
  },
  {
   "cell_type": "code",
   "execution_count": null,
   "id": "fdb98818-fce8-4dff-82bb-3182727849eb",
   "metadata": {},
   "outputs": [],
   "source": [
    "fig, axes = plt.subplots(1, 2)\n",
    "torch.manual_seed(1234)\n",
    "phi = torch.randn(size=(8, 8))\n",
    "axes[0].imshow(grab(phi), cmap='RdBu')\n",
    "axes[1].imshow(grab(torch.roll(phi, 1, dims=1)), cmap='RdBu')\n",
    "plt.show()"
   ]
  },
  {
   "cell_type": "markdown",
   "id": "c79963c0-b5c9-438c-a694-62da4105d85b",
   "metadata": {},
   "source": [
    "Lattice action for quartic $\\phi^4$ theory, using parameterization in [hep-lat/0506002](http://arxiv.org/abs/hep-lat/0506002)\n",
    "$$\n",
    "\\begin{aligned}\n",
    "S(\\phi) &= \\sum_x \\left\\{\n",
    "\\frac{m^2}{2} \\phi_x^2 + \\frac{\\lambda}{4!} \\phi_x^4 +\n",
    "\\frac{1}{2} \\sum_{\\mu} \\phi_x (2 \\phi_x - \\phi_{x+\\hat{\\mu}} - \\phi_{x-\\hat{\\mu}})\n",
    "\\right\\} \\\\\n",
    "&= \\sum_x \\left \\{\n",
    "(N_d + \\frac{m^2}{2}) \\phi_x^2 + \\frac{\\lambda}{4!} \\phi_x^4 - \\sum_\\mu \\phi_x \\phi_{x+\\hat{\\mu}}\n",
    "\\right\\}\n",
    "\\end{aligned}\n",
    "$$"
   ]
  },
  {
   "cell_type": "code",
   "execution_count": null,
   "id": "00fcab32-e6d9-407b-a187-ce910ff9a897",
   "metadata": {},
   "outputs": [],
   "source": [
    "class Phi4Action:\n",
    "    def __init__(self, m2, lam):\n",
    "        self.m2 = m2\n",
    "        self.lam = lam\n",
    "        self.grad = torch.func.grad(self.value)\n",
    "    def value(self, phi):\n",
    "        # phi.shape = (Lx, Ly, ...)\n",
    "        Nd = len(phi.shape)\n",
    "        S = ((Nd + self.m2/2) * phi**2 + (self.lam/24) * phi**4).sum()\n",
    "        for mu in range(Nd):\n",
    "            phi_fwd = torch.roll(phi, -1, dims=mu)\n",
    "            S -= (phi * phi_fwd).sum()\n",
    "        return S"
   ]
  },
  {
   "cell_type": "code",
   "execution_count": null,
   "id": "0496550b-bde7-49c1-9c2f-f11df8b1946c",
   "metadata": {},
   "outputs": [],
   "source": [
    "torch.manual_seed(1234)\n",
    "phi = torch.randn(size=(8, 8))\n",
    "action = Phi4Action(1., 0.)\n",
    "s = [grab(action.value(phi))]\n",
    "for _ in range(1000):\n",
    "    phi -= 0.01*action.grad(phi)\n",
    "    s.append(grab(action.value(phi)))\n",
    "s = np.array(s)"
   ]
  },
  {
   "cell_type": "code",
   "execution_count": null,
   "id": "cbe87aac-0c4e-4127-b6c2-4996077f4d82",
   "metadata": {},
   "outputs": [],
   "source": [
    "fig, ax = plt.subplots(1,1)\n",
    "ax.set_title('Gradient flow')\n",
    "ax.plot(s)\n",
    "ax.set_ylabel(r'$S$')\n",
    "ax.set_xlabel('step')\n",
    "ax.set_yscale('log')\n",
    "plt.show()"
   ]
  },
  {
   "cell_type": "markdown",
   "id": "107df8f2-90f8-4555-bb59-e8fd920c13ec",
   "metadata": {
    "jp-MarkdownHeadingCollapsed": true
   },
   "source": [
    "# HMC"
   ]
  },
  {
   "cell_type": "markdown",
   "id": "e0a10e12-63a8-416a-9a6c-b2cda3d64e99",
   "metadata": {},
   "source": [
    "Simulate molecular dynamics evolution:\n",
    "$$\n",
    "\\dot{\\phi} = \\pi, \\qquad\n",
    "\\dot{\\pi} = -\\nabla S(\\phi)\n",
    "$$"
   ]
  },
  {
   "cell_type": "code",
   "execution_count": null,
   "id": "c69dd8db-85dc-4190-8049-45a966550f80",
   "metadata": {},
   "outputs": [],
   "source": [
    "def leapfrog_update(phi, pi, action, *, dt, n_leap):\n",
    "    phi += (dt/2)*pi\n",
    "    for _ in range(n_leap-1):\n",
    "        pi -= dt*action.grad(phi)\n",
    "        phi += dt*pi\n",
    "    pi -= dt*action.grad(phi)\n",
    "    phi += (dt/2)*pi"
   ]
  },
  {
   "cell_type": "code",
   "execution_count": null,
   "id": "42a34d27-a0f4-4390-b68c-235db89ed752",
   "metadata": {},
   "outputs": [],
   "source": [
    "phi0 = torch.randn(size=(8,8))\n",
    "pi0 = torch.randn(size=(8,8))\n",
    "action = Phi4Action(1., 0.)\n",
    "t = 1.0\n",
    "deltas = []\n",
    "dts = []\n",
    "for n_leap in [10, 25, 50, 100, 250, 500]:\n",
    "    dt = t / n_leap\n",
    "    phi = phi0.clone()\n",
    "    pi = pi0.clone()\n",
    "    H0 = action.value(phi) + (pi**2/2).sum()\n",
    "    leapfrog_update(phi, pi, action, dt=dt, n_leap=n_leap)\n",
    "    H1 = action.value(phi) + (pi**2/2).sum()\n",
    "    dts.append(dt)\n",
    "    deltas.append(grab(H1 - H0))"
   ]
  },
  {
   "cell_type": "code",
   "execution_count": null,
   "id": "8a600417-be22-4908-9878-30c9fd8ba930",
   "metadata": {},
   "outputs": [],
   "source": [
    "fig, ax = plt.subplots(1,1)\n",
    "ax.plot(dts, deltas, marker='o', label=r'empirical')\n",
    "dt_plot = np.linspace(np.min(dts), np.max(dts))\n",
    "thy_scaling = deltas[0]*(dt_plot/dts[0])**2\n",
    "ax.plot(dt_plot, thy_scaling, linestyle='--', color='k', label=r'$\\delta t^2$ scaling')\n",
    "ax.legend()\n",
    "ax.set_xscale('log')\n",
    "ax.set_yscale('log')\n",
    "ax.set_ylabel(r'$\\Delta H$')\n",
    "ax.set_xlabel(r'$\\delta t$')\n",
    "plt.show()"
   ]
  },
  {
   "cell_type": "markdown",
   "id": "893b1684-f054-45e1-8d63-e004763cf68f",
   "metadata": {
    "jp-MarkdownHeadingCollapsed": true
   },
   "source": [
    "# MCMC and freezing"
   ]
  },
  {
   "cell_type": "markdown",
   "id": "ec43fc40-93b8-417b-98a9-f38501aa2a56",
   "metadata": {},
   "source": [
    "For $m^2 = -0.5$, we expect the Z2 symmetry breaking transition around $\\lambda \\approx 2$, with $\\lambda < \\lambda_c$ in the broken phase, $\\lambda > \\lambda_c$ in the symmetric phase. See [hep-lat/0506002](http://arxiv.org/abs/hep-lat/0506002)\n",
    "\n",
    "<img src=\"figs/phi4_phase_diagram.png\" width=\"300px\"/>"
   ]
  },
  {
   "cell_type": "code",
   "execution_count": null,
   "id": "dd405aca-7a23-4be3-a643-3040c8c4cd17",
   "metadata": {},
   "outputs": [],
   "source": [
    "def run_hmc(action, *, n_therm, n_iter, n_meas, dt=0.10, n_leap=10):\n",
    "    torch.manual_seed(1234)\n",
    "    phi = 0.1*torch.randn((8, 8)) # warm start\n",
    "    S = action.value(phi)\n",
    "    acc = 0\n",
    "    tot = 0\n",
    "    meas = []\n",
    "    for i in tqdm.tqdm(range(-n_therm, n_iter)):\n",
    "        new_phi = phi.clone()\n",
    "        pi = torch.randn_like(phi)\n",
    "        K = (pi**2/2).sum()\n",
    "        leapfrog_update(new_phi, pi, action, dt=dt, n_leap=n_leap)\n",
    "        Sp = action.value(new_phi)\n",
    "        Kp = (pi**2/2).sum()\n",
    "        dH = grab(Sp + Kp - S - K)\n",
    "        tot += 1\n",
    "        if np.random.random() < np.exp(-dH): # accept\n",
    "            phi = new_phi\n",
    "            S = Sp\n",
    "            acc += 1\n",
    "        if i >= 0 and (i+1)%n_meas == 0:\n",
    "            meas.append(grab(phi.mean()))\n",
    "            # print(f'Acc {100.0*acc/tot:.2f}')\n",
    "    return dict(meas=np.stack(meas))"
   ]
  },
  {
   "cell_type": "code",
   "execution_count": null,
   "id": "6bd5e2e3-07d6-40c7-9627-3198fea8f02d",
   "metadata": {},
   "outputs": [],
   "source": [
    "actBroken = Phi4Action(m2=-0.5, lam=1.5)\n",
    "actSymm = Phi4Action(m2=-0.5, lam=4.5)"
   ]
  },
  {
   "cell_type": "code",
   "execution_count": null,
   "id": "551d1662-4860-4c27-9c8d-f626e82e8dde",
   "metadata": {},
   "outputs": [],
   "source": [
    "resBroken = run_hmc(actBroken, n_therm=100, n_iter=1000, n_meas=1, dt=0.05, n_leap=50)"
   ]
  },
  {
   "cell_type": "code",
   "execution_count": null,
   "id": "0a6f39c3-047a-42a2-b664-b553aba7dd4f",
   "metadata": {},
   "outputs": [],
   "source": [
    "resSymm = run_hmc(actSymm, n_therm=100, n_iter=1000, n_meas=1, dt=0.05, n_leap=20)"
   ]
  },
  {
   "cell_type": "code",
   "execution_count": null,
   "id": "6d1393e0-744b-45ab-b666-5e1965b159ac",
   "metadata": {},
   "outputs": [],
   "source": [
    "fig, axes = plt.subplots(1, 2)\n",
    "ax = axes[0]\n",
    "ax.plot(resBroken['meas'], label='broken')\n",
    "ax.plot(resSymm['meas'], label='symm')\n",
    "ax.legend()\n",
    "ax = axes[1]\n",
    "ax.hist(resBroken['meas'], bins=np.linspace(-1.5, 1.5), alpha=0.8)\n",
    "ax.hist(resSymm['meas'], bins=np.linspace(-1.5, 1.5), alpha=0.8)\n",
    "plt.show()"
   ]
  },
  {
   "cell_type": "markdown",
   "id": "c8ccd9ec-7c6d-49e3-9fb2-79a060697ac2",
   "metadata": {
    "jp-MarkdownHeadingCollapsed": true
   },
   "source": [
    "# Sampling using flows"
   ]
  },
  {
   "cell_type": "markdown",
   "id": "e6363160-0c83-4b7d-bec1-abe761d9e83c",
   "metadata": {},
   "source": [
    "Let's concoct a synthetic example of a flow, to see how it can result in sampling interesting distributions. Prior distribution\n",
    "$$\n",
    "r(x_0, x_1) = \\frac{1}{2\\pi} \\exp(-(x_0^2 + x_1^2)/2)\n",
    "$$\n",
    "and flow $\\dot{x} = b(x)$ to be integrated over $t \\in [0,1]$. For this example, we use a velocity designed to create a double-peaked distribution\n",
    "$$\n",
    "b(x) = \\begin{pmatrix}\n",
    "x_0 e^{-x_0^2/2} \\\\ - x_1\n",
    "\\end{pmatrix}\n",
    "$$\n",
    "for which $\\nabla \\cdot b = (1 - x_0^2) e^{-x_0^2/2} - 1$."
   ]
  },
  {
   "cell_type": "code",
   "execution_count": null,
   "id": "293eab60-b886-422b-a682-de11b25a8ca5",
   "metadata": {},
   "outputs": [],
   "source": [
    "fig, ax = plt.subplots(1,1, figsize=(3.5, 2.5))\n",
    "xs = np.linspace(-5, 5)\n",
    "ax.plot(xs, xs*np.exp(-xs**2/2))\n",
    "ax.set_ylabel(r'$dx_0/dt$')\n",
    "ax.set_xlabel(r'$x_0$')\n",
    "plt.show()"
   ]
  },
  {
   "cell_type": "code",
   "execution_count": null,
   "id": "3e3cdd23-2703-4d32-b060-483f8d0fde8d",
   "metadata": {},
   "outputs": [],
   "source": [
    "class ToyVelocity:\n",
    "    def value(self, x, t):\n",
    "        \"\"\"how the samples move\"\"\"\n",
    "        x0, x1 = x\n",
    "        return torch.stack([2*x0*torch.exp(-x0**2/2), -x1])\n",
    "    def div(self, x, t):\n",
    "        \"\"\"how the density squishes/stretches\"\"\"\n",
    "        x0, x1 = x\n",
    "        w = 2*torch.exp(-x0**2/2)\n",
    "        return (1 - x0**2)*w - 1\n",
    "\n",
    "def flow(x, velocity, *, n_step, tf=1.0, inverse=False):\n",
    "    dt = tf/n_step\n",
    "    ts = dt*torch.arange(n_step)\n",
    "    logJ = torch.zeros_like(x[0])\n",
    "    sign = 1\n",
    "    if inverse:\n",
    "        sign = -1\n",
    "        ts = reversed(ts)\n",
    "    for t in ts:\n",
    "        # transport samples\n",
    "        x += sign * dt * velocity.value(x, t)\n",
    "        # estimate change of measure\n",
    "        logJ += dt * velocity.div(x, t)\n",
    "    return x, logJ"
   ]
  },
  {
   "cell_type": "code",
   "execution_count": null,
   "id": "6258148e-519c-4ffa-8778-3e5d9343024d",
   "metadata": {},
   "outputs": [],
   "source": [
    "velocity = ToyVelocity()\n",
    "# flow_single = lambda x: flow(x, velocity, n_step=25)\n",
    "flow_batch = torch.func.vmap(flow, in_dims=(0,None))\n",
    "xr = torch.randn((4096,2))\n",
    "xa, logJa = flow_batch(xr.clone(), velocity, n_step=33, tf=0.33)\n",
    "xb, logJb = flow_batch(xr.clone(), velocity, n_step=66, tf=0.66)\n",
    "xc, logJc = flow_batch(xr.clone(), velocity, n_step=100, tf=1.0)"
   ]
  },
  {
   "cell_type": "markdown",
   "id": "61db2029-024e-489a-9ba8-c6ddc6ffa2fa",
   "metadata": {},
   "source": [
    "Change of measure from flow $x = f(x_r)$ is given by\n",
    "$$\n",
    "\\log{q}(x) = \\log{r}(x_r) - \\log{J}_f\n",
    "$$\n",
    "To remember the sign: **stretching** ($\\log{J}_f > 0$) **reduces** the density."
   ]
  },
  {
   "cell_type": "code",
   "execution_count": null,
   "id": "3ea05567-3b6b-4679-b87f-3e62c1062009",
   "metadata": {},
   "outputs": [],
   "source": [
    "def eval_logq(x, tf):\n",
    "    xr, logJ = flow_batch(x.reshape(-1, 2).clone(), velocity, n_step=100, tf=tf, inverse=True)\n",
    "    logr = -(xr**2/2).sum(-1) - np.log(2*np.pi)\n",
    "    assert logr.shape == logJ.shape\n",
    "    print(f'flat shape {logr.shape} -> full shape {x.shape[:-1]}')\n",
    "    return (logr - logJ).reshape(x.shape[:-1])"
   ]
  },
  {
   "cell_type": "code",
   "execution_count": null,
   "id": "9eddaed1-4585-4c12-a5af-94bf90e957b6",
   "metadata": {},
   "outputs": [],
   "source": [
    "fig, axes = plt.subplots(2,4, figsize=(8,4.5))\n",
    "bins=np.linspace(-2.5, 2.5, num=51)\n",
    "\n",
    "# samples\n",
    "axes[0,0].hist2d(grab(xr)[:,0], grab(xr)[:,1], bins=bins)\n",
    "axes[0,0].set_title('Prior dist.')\n",
    "axes[0,1].hist2d(grab(xa)[:,0], grab(xa)[:,1], bins=bins)\n",
    "axes[0,1].set_title('Flowed dist. (0.33)')\n",
    "axes[0,2].hist2d(grab(xb)[:,0], grab(xb)[:,1], bins=bins)\n",
    "axes[0,2].set_title('Flowed dist. (0.66)')\n",
    "axes[0,3].hist2d(grab(xc)[:,0], grab(xc)[:,1], bins=bins)\n",
    "axes[0,3].set_title('Flowed dist. (1.0)')\n",
    "\n",
    "# density\n",
    "x_mesh = torch.stack(torch.meshgrid(torch.tensor(bins), torch.tensor(bins)), dim=-1)\n",
    "# x_mesh = x_mesh.flatten(0,1)\n",
    "logq_0 = eval_logq(x_mesh, tf=0.0)\n",
    "logq_a = eval_logq(x_mesh, tf=0.33)\n",
    "logq_b = eval_logq(x_mesh, tf=0.66)\n",
    "logq_c = eval_logq(x_mesh, tf=1.0)\n",
    "x_mesh = grab(x_mesh)\n",
    "axes[1,0].contourf(x_mesh[...,0], x_mesh[...,1], np.exp(logq_0))\n",
    "axes[1,1].contourf(x_mesh[...,0], x_mesh[...,1], np.exp(logq_a))\n",
    "axes[1,2].contourf(x_mesh[...,0], x_mesh[...,1], np.exp(logq_b))\n",
    "axes[1,3].contourf(x_mesh[...,0], x_mesh[...,1], np.exp(logq_c))\n",
    "\n",
    "for ax in axes.flatten():\n",
    "    ax.set_aspect(1.0)\n",
    "plt.show()"
   ]
  }
 ],
 "metadata": {
  "kernelspec": {
   "display_name": "Python 3 (ipykernel)",
   "language": "python",
   "name": "python3"
  },
  "language_info": {
   "codemirror_mode": {
    "name": "ipython",
    "version": 3
   },
   "file_extension": ".py",
   "mimetype": "text/x-python",
   "name": "python",
   "nbconvert_exporter": "python",
   "pygments_lexer": "ipython3",
   "version": "3.13.3"
  }
 },
 "nbformat": 4,
 "nbformat_minor": 5
}
