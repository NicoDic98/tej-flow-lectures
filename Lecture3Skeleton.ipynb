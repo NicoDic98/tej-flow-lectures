{
 "cells": [
  {
   "cell_type": "markdown",
   "id": "411d6427-4823-404d-b561-64cb2cf84628",
   "metadata": {},
   "source": [
    "# Setup"
   ]
  },
  {
   "cell_type": "code",
   "execution_count": null,
   "id": "58b86e79-a80a-4e1e-9524-3ab4209fa96f",
   "metadata": {},
   "outputs": [],
   "source": [
    "import matplotlib.pyplot as plt\n",
    "import numpy as np\n",
    "import torch\n",
    "import tqdm.auto as tqdm\n",
    "%matplotlib widget"
   ]
  },
  {
   "cell_type": "code",
   "execution_count": null,
   "id": "692291bf-7d91-40ec-a641-7a853fcc8332",
   "metadata": {},
   "outputs": [],
   "source": [
    "def grab(x):\n",
    "    return x.detach().numpy()"
   ]
  },
  {
   "cell_type": "code",
   "execution_count": null,
   "id": "5290692d-4e46-4163-8e33-f73fbe259397",
   "metadata": {},
   "outputs": [],
   "source": [
    "def compute_ess(w):\n",
    "    pass"
   ]
  },
  {
   "cell_type": "markdown",
   "id": "a22e2e0e-ebd1-42e4-9b13-d9f5a99c5367",
   "metadata": {},
   "source": [
    "# Phi4 theory"
   ]
  },
  {
   "cell_type": "markdown",
   "id": "481a287c-45ea-4cce-b150-8af644e48425",
   "metadata": {},
   "source": [
    "Copied from Lecture 1:"
   ]
  },
  {
   "cell_type": "code",
   "execution_count": 4,
   "id": "17d93fb0-78d5-4c37-9386-594e049509ed",
   "metadata": {},
   "outputs": [],
   "source": [
    "# class Phi4Action: ..."
   ]
  },
  {
   "cell_type": "code",
   "execution_count": 3,
   "id": "3cbb8c9d-2aa0-45fd-b403-9d660c716381",
   "metadata": {},
   "outputs": [],
   "source": [
    "# def leapfrog_update(...):"
   ]
  },
  {
   "cell_type": "markdown",
   "id": "d7917474-109d-464e-a899-b6a136e558c1",
   "metadata": {},
   "source": [
    "**TODO:** Modify to keep L as a parameter, and return samples $\\phi$ and associated action values:"
   ]
  },
  {
   "cell_type": "code",
   "execution_count": 5,
   "id": "6ad55653-8638-4203-b0b2-49433b97a248",
   "metadata": {},
   "outputs": [],
   "source": [
    "# def run_hmc ..."
   ]
  },
  {
   "cell_type": "markdown",
   "id": "de0d3cbc-1f05-4823-a3c1-963a0e6c33ce",
   "metadata": {},
   "source": [
    "# Flow"
   ]
  },
  {
   "cell_type": "code",
   "execution_count": null,
   "id": "6ab071ad-eeac-43bf-ba3c-2c4788ed6740",
   "metadata": {},
   "outputs": [],
   "source": [
    "class Velocity(torch.nn.Module):\n",
    "    pass"
   ]
  },
  {
   "cell_type": "markdown",
   "id": "31089e06-8da5-49eb-b0d8-ad99dcc8e929",
   "metadata": {},
   "source": [
    "Copied from Lecture 2:"
   ]
  },
  {
   "cell_type": "code",
   "execution_count": null,
   "id": "4981b9d7-73bf-4077-b297-7f9551cb1bbc",
   "metadata": {},
   "outputs": [],
   "source": [
    "def flow(x, velocity, *, n_step, tf=1.0, inverse=False):\n",
    "    dt = tf/n_step\n",
    "    ts = dt*torch.arange(n_step)\n",
    "    logJ = torch.tensor(0.0)\n",
    "    sign = 1\n",
    "    if inverse:\n",
    "        sign = -1\n",
    "        ts = reversed(ts)\n",
    "    for t in ts:\n",
    "        # transport samples\n",
    "        x = x + sign * dt * velocity.value(x, t)\n",
    "        # estimate change of measure\n",
    "        logJ = logJ + dt * velocity.div(x, t)\n",
    "    return x, logJ"
   ]
  },
  {
   "cell_type": "code",
   "execution_count": null,
   "id": "12aafd70-6533-45bc-afd8-78fcee39b673",
   "metadata": {},
   "outputs": [],
   "source": [
    "# flow_batch = ..."
   ]
  },
  {
   "cell_type": "code",
   "execution_count": null,
   "id": "174dd257-dc95-4db5-8375-65bfaf1562e0",
   "metadata": {},
   "outputs": [],
   "source": [
    "# check L=4 hmc in broken phase"
   ]
  },
  {
   "cell_type": "markdown",
   "id": "214aabf4-5d68-496a-89ae-a752c0ed4131",
   "metadata": {},
   "source": [
    "We will approach the target by learning 5 different flows trained to transport between the $m^2 = 0, \\lambda = 1.5$ theory (symmetric phase) and the $m^2 = -0.5, \\lambda = 1.5$ theory (broken phase) in steps of $m^2$:\n",
    "$$\n",
    "(m^2, \\lambda) = (0, 1.5) \\; \\longrightarrow \\; (-0.1, 1.5) \\; \\longrightarrow \\; (-0.2, 1.5) \\; \\longrightarrow \\; (-0.3, 1.5) \\; \\longrightarrow \\; (-0.4, 1.5) \\; \\longrightarrow \\; (-0.5, 1.5)\n",
    "$$"
   ]
  },
  {
   "cell_type": "code",
   "execution_count": null,
   "id": "f28e01af-d2da-4bda-a51c-9a09e0bc4707",
   "metadata": {},
   "outputs": [],
   "source": [
    "# targets = ..."
   ]
  },
  {
   "cell_type": "code",
   "execution_count": null,
   "id": "70c9986f-6b0f-43c4-be1b-a462255af02b",
   "metadata": {},
   "outputs": [],
   "source": [
    "def train_model(prior, target, *, batch_size=4, n_iter=1000):\n",
    "    pass"
   ]
  },
  {
   "cell_type": "code",
   "execution_count": null,
   "id": "0eea09f7-367c-42e6-8cc7-b1cf9443954c",
   "metadata": {},
   "outputs": [],
   "source": [
    "results = [\n",
    "    train_model(targets[i], targets[i+1], batch_size=32, n_iter=200)\n",
    "    for i in range(len(targets)-1)\n",
    "]"
   ]
  },
  {
   "cell_type": "markdown",
   "id": "22d4bdac-c37e-4760-b166-e92060aa04d9",
   "metadata": {},
   "source": [
    "# Evaluate"
   ]
  },
  {
   "cell_type": "markdown",
   "id": "1e41453f-26ed-4d26-a7e9-d3c91eaf4491",
   "metadata": {},
   "source": [
    "## L = 4"
   ]
  },
  {
   "cell_type": "code",
   "execution_count": null,
   "id": "5b7ef365-7907-4d00-90ee-46a3b42a73c8",
   "metadata": {},
   "outputs": [],
   "source": [
    "# draw prior samples\n",
    "# phi_r = ..."
   ]
  },
  {
   "cell_type": "code",
   "execution_count": null,
   "id": "2c25d511-2e62-4bdb-82b1-f9bd3b4da451",
   "metadata": {},
   "outputs": [],
   "source": [
    "# flow samples and compute reweighting factors\n",
    "def apply_flows(phi_r):\n",
    "    pass"
   ]
  },
  {
   "cell_type": "code",
   "execution_count": null,
   "id": "86caae2a-0ae2-466e-b835-25aac6022ba3",
   "metadata": {},
   "outputs": [],
   "source": [
    "# get 2500 samples from HMC at each target\n",
    "res_hmc_L4 = []\n",
    "# ..."
   ]
  },
  {
   "cell_type": "code",
   "execution_count": null,
   "id": "5986a759-bd83-412f-9d80-8272b6399b83",
   "metadata": {},
   "outputs": [],
   "source": [
    "# plot it all"
   ]
  },
  {
   "cell_type": "markdown",
   "id": "8b275fac-ca23-4c19-895f-0418e4b0b8b1",
   "metadata": {},
   "source": [
    "## L = 8"
   ]
  },
  {
   "cell_type": "markdown",
   "id": "93f94fb9-f1d2-4678-a407-3f3a38e823e7",
   "metadata": {},
   "source": [
    "Because we worked with convolutions, the _same_ flow model can be directly applied to the L=8 theory. The result is not great, but could be improved by scaling up the model, training more, and/or trying to build a specialized model to target the Z2 spontaneous symmetry breaking of the theory."
   ]
  }
 ],
 "metadata": {
  "kernelspec": {
   "display_name": "Python 3 (ipykernel)",
   "language": "python",
   "name": "python3"
  },
  "language_info": {
   "codemirror_mode": {
    "name": "ipython",
    "version": 3
   },
   "file_extension": ".py",
   "mimetype": "text/x-python",
   "name": "python",
   "nbconvert_exporter": "python",
   "pygments_lexer": "ipython3",
   "version": "3.13.5"
  }
 },
 "nbformat": 4,
 "nbformat_minor": 5
}
