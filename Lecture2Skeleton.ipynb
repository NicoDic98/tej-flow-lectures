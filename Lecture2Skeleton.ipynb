{
 "cells": [
  {
   "cell_type": "markdown",
   "id": "e01ab6a8-6340-4941-b73c-777380ab04c2",
   "metadata": {},
   "source": [
    "# Setup"
   ]
  },
  {
   "cell_type": "markdown",
   "id": "57459579-270f-4b9c-bb52-8c7b2111dcf2",
   "metadata": {},
   "source": [
    "# Brief ML primer"
   ]
  },
  {
   "cell_type": "markdown",
   "id": "49c9dfa1-8905-45c0-9c0f-e84b95aee98a",
   "metadata": {},
   "source": [
    "Let's quickly demonstrate how training looks in Pytorch. We will train a small neural network to model the function\n",
    "$$\n",
    "f(x) = \\mathrm{sinc}(x) := \\frac{\\sin(\\pi x)}{\\pi x}\n",
    "$$"
   ]
  },
  {
   "cell_type": "code",
   "execution_count": null,
   "id": "27c40669-534d-4035-821d-7358286d615c",
   "metadata": {},
   "outputs": [],
   "source": [
    "def target_fn(x):\n",
    "    return torch.sinc(x)\n",
    "fig, ax = plt.subplots(1,1, figsize=(3.5, 2.5))\n",
    "xs = torch.linspace(-5, 5, steps=51)\n",
    "ys = target_fn(xs)\n",
    "ax.plot(grab(xs), grab(ys))\n",
    "plt.show()"
   ]
  },
  {
   "cell_type": "code",
   "execution_count": null,
   "id": "01596f55-1486-4dc6-a583-ab81c885f893",
   "metadata": {},
   "outputs": [],
   "source": [
    "class ToyModel(torch.nn.Module):\n",
    "    pass"
   ]
  },
  {
   "cell_type": "code",
   "execution_count": null,
   "id": "8d81b3d4-32db-4731-9f56-f5bced8d7808",
   "metadata": {
    "scrolled": true
   },
   "outputs": [],
   "source": [
    "def train_model():\n",
    "    pass\n",
    "res = train_model()"
   ]
  },
  {
   "cell_type": "code",
   "execution_count": null,
   "id": "05164c5c-0de1-4ab1-a440-2f07b8a27a08",
   "metadata": {},
   "outputs": [],
   "source": [
    "# TODO: plot true vs learned function"
   ]
  },
  {
   "cell_type": "markdown",
   "id": "c5a0306f-b6fd-4a46-87ae-2b6243e5d046",
   "metadata": {},
   "source": [
    "# Target"
   ]
  },
  {
   "cell_type": "markdown",
   "id": "c62d6a36-73d2-48d1-8a82-d431cb71318d",
   "metadata": {},
   "source": [
    "To explore learned flows, we will use a standard 2D target, a **mixture of Gaussians**:\n",
    "$$\n",
    "p(x) = \\frac{1}{\\sqrt{2\\pi}} \\sum_i \\sigma(\\alpha)_i e^{-(x-\\mu_i)^2/2}.\n",
    "$$\n",
    "Above, $\\sigma(\\alpha)_i := e^{\\alpha_i} / \\sum_j e^{\\alpha_j}$ is the Softmax function, which maps a vector $\\vec{\\alpha}$ to positive-definite and normalized weights."
   ]
  },
  {
   "cell_type": "code",
   "execution_count": null,
   "id": "354c5295-4f73-47a1-8c80-8de19bd4f3cc",
   "metadata": {},
   "outputs": [],
   "source": [
    "class MixtureOfGaussians:\n",
    "    # TODO: implement sample() and log_prob()\n",
    "    pass"
   ]
  },
  {
   "cell_type": "code",
   "execution_count": null,
   "id": "cecc883f-d65c-4f87-be0b-e1012d70f63a",
   "metadata": {},
   "outputs": [],
   "source": [
    "# this is an indexing trick that will be useful\n",
    "a = np.arange(24).reshape(6, 4)\n",
    "inds = np.array([1, 4, 3])\n",
    "# this pulls rows \"inds\" out of a\n",
    "extracted = a[inds[:,None], np.arange(4)]\n",
    "print(f'{a=}')\n",
    "print(' -> ')\n",
    "print(f'{extracted=}')"
   ]
  },
  {
   "cell_type": "code",
   "execution_count": null,
   "id": "a64f5083-3238-47fb-a881-27946b42758f",
   "metadata": {},
   "outputs": [],
   "source": [
    "# some reasonable parameters for the MoG\n",
    "mu = torch.tensor([\n",
    "    [5., 0.],\n",
    "    [0, 5.],\n",
    "    [-5., -3.]\n",
    "])\n",
    "alpha = torch.tensor([0.5, 0.0, 0.8])\n",
    "target = MixtureOfGaussians(mu, alpha)\n",
    "\n",
    "# TODO: draw samples and plot density"
   ]
  },
  {
   "cell_type": "markdown",
   "id": "91778d6c-d527-4672-ba26-f48af440297d",
   "metadata": {},
   "source": [
    "# Flow model"
   ]
  },
  {
   "cell_type": "code",
   "execution_count": null,
   "id": "c624246f-6b86-456a-8002-5aaedc7dc4c8",
   "metadata": {},
   "outputs": [],
   "source": [
    "class Velocity(torch.nn.Module):\n",
    "    pass"
   ]
  },
  {
   "cell_type": "markdown",
   "id": "d4ab6034-6935-448f-9b43-2bcd92da8c8b",
   "metadata": {},
   "source": [
    "From Lecture 1:"
   ]
  },
  {
   "cell_type": "code",
   "execution_count": null,
   "id": "2fc4ed3b-9f31-4e7c-98f5-b4b30d7f019e",
   "metadata": {},
   "outputs": [],
   "source": [
    "def flow(x, velocity, *, n_step, tf=1.0, inverse=False):\n",
    "    dt = tf/n_step\n",
    "    ts = dt*torch.arange(n_step)\n",
    "    logJ = torch.tensor(0.0)\n",
    "    sign = 1\n",
    "    if inverse:\n",
    "        sign = -1\n",
    "        ts = reversed(ts)\n",
    "    for t in ts:\n",
    "        # transport samples\n",
    "        x = x + sign * dt * velocity.value(x, t)\n",
    "        # estimate change of measure\n",
    "        logJ = logJ + dt * velocity.div(x, t)\n",
    "    return x, logJ"
   ]
  },
  {
   "cell_type": "markdown",
   "id": "6671b04a-0362-4195-847d-72857c9ab89b",
   "metadata": {},
   "source": [
    "**Training option 1:** Reverse KL divergence between target and model."
   ]
  },
  {
   "cell_type": "code",
   "execution_count": null,
   "id": "5da7be17-56be-4050-b3ba-e033e634338b",
   "metadata": {},
   "outputs": [],
   "source": [
    "def train_model_rkl():\n",
    "    pass\n",
    "res_rkl = train_model_rkl()"
   ]
  },
  {
   "cell_type": "code",
   "execution_count": null,
   "id": "85c0aff2-edb8-4ec2-8c34-bdea7add13c5",
   "metadata": {},
   "outputs": [],
   "source": [
    "# TODO: plot loss history"
   ]
  },
  {
   "cell_type": "code",
   "execution_count": null,
   "id": "12aec63b-702b-41a1-9379-0f2bddb213e4",
   "metadata": {},
   "outputs": [],
   "source": [
    "# TODO: plot model vs true samples"
   ]
  },
  {
   "cell_type": "markdown",
   "id": "ccee2dcf-ca9e-47a1-8dc0-206ed1acd7ab",
   "metadata": {},
   "source": [
    "**Training option 2:** Forward KL using samples from target."
   ]
  },
  {
   "cell_type": "code",
   "execution_count": null,
   "id": "6cccca07-a385-4b08-86e3-472a5660b920",
   "metadata": {},
   "outputs": [],
   "source": [
    "def train_model_fkl():\n",
    "    pass\n",
    "res_fkl = train_model_fkl()"
   ]
  }
 ],
 "metadata": {
  "kernelspec": {
   "display_name": "Python 3 (ipykernel)",
   "language": "python",
   "name": "python3"
  },
  "language_info": {
   "codemirror_mode": {
    "name": "ipython",
    "version": 3
   },
   "file_extension": ".py",
   "mimetype": "text/x-python",
   "name": "python",
   "nbconvert_exporter": "python",
   "pygments_lexer": "ipython3",
   "version": "3.13.5"
  }
 },
 "nbformat": 4,
 "nbformat_minor": 5
}
