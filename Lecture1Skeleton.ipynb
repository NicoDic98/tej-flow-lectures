{
 "cells": [
  {
   "cell_type": "markdown",
   "id": "3a109ed1-0527-42e9-904f-7c5919e36f72",
   "metadata": {},
   "source": [
    "# Setup"
   ]
  },
  {
   "cell_type": "markdown",
   "id": "20ee512c-ea42-4a7a-9cfa-ca87665d8aac",
   "metadata": {},
   "source": [
    "# Phi4 theory"
   ]
  },
  {
   "cell_type": "markdown",
   "id": "c8b53b96-6f6b-4e74-a4f4-f897c618bf71",
   "metadata": {},
   "source": [
    "We will use \"torch.roll\" to compute terms like $\\phi_x \\phi_{x+\\hat{\\mu}}$. A little demo:"
   ]
  },
  {
   "cell_type": "code",
   "execution_count": null,
   "id": "fdb98818-fce8-4dff-82bb-3182727849eb",
   "metadata": {},
   "outputs": [],
   "source": [
    "# TODO"
   ]
  },
  {
   "cell_type": "markdown",
   "id": "c79963c0-b5c9-438c-a694-62da4105d85b",
   "metadata": {},
   "source": [
    "Lattice action for quartic $\\phi^4$ theory, using parameterization in [hep-lat/0506002](http://arxiv.org/abs/hep-lat/0506002)\n",
    "$$\n",
    "\\begin{aligned}\n",
    "S(\\phi) &= \\sum_x \\left\\{\n",
    "\\frac{m^2}{2} \\phi_x^2 + \\frac{\\lambda}{4!} \\phi_x^4 +\n",
    "\\frac{1}{2} \\sum_{\\mu} \\phi_x (2 \\phi_x - \\phi_{x+\\hat{\\mu}} - \\phi_{x-\\hat{\\mu}})\n",
    "\\right\\} \\\\\n",
    "&= \\sum_x \\left \\{\n",
    "(N_d + \\frac{m^2}{2}) \\phi_x^2 + \\frac{\\lambda}{4!} \\phi_x^4 - \\sum_\\mu \\phi_x \\phi_{x+\\hat{\\mu}}\n",
    "\\right\\}\n",
    "\\end{aligned}\n",
    "$$"
   ]
  },
  {
   "cell_type": "code",
   "execution_count": null,
   "id": "00fcab32-e6d9-407b-a187-ce910ff9a897",
   "metadata": {},
   "outputs": [],
   "source": [
    "class Phi4Action:\n",
    "    pass"
   ]
  },
  {
   "cell_type": "code",
   "execution_count": null,
   "id": "cbe87aac-0c4e-4127-b6c2-4996077f4d82",
   "metadata": {},
   "outputs": [],
   "source": [
    "# TODO: gradient flow plot"
   ]
  },
  {
   "cell_type": "markdown",
   "id": "107df8f2-90f8-4555-bb59-e8fd920c13ec",
   "metadata": {},
   "source": [
    "# HMC"
   ]
  },
  {
   "cell_type": "markdown",
   "id": "e0a10e12-63a8-416a-9a6c-b2cda3d64e99",
   "metadata": {},
   "source": [
    "Simulate molecular dynamics evolution:\n",
    "$$\n",
    "\\dot{\\phi} = \\pi, \\qquad\n",
    "\\dot{\\pi} = -\\nabla S(\\phi)\n",
    "$$"
   ]
  },
  {
   "cell_type": "code",
   "execution_count": null,
   "id": "c69dd8db-85dc-4190-8049-45a966550f80",
   "metadata": {},
   "outputs": [],
   "source": [
    "def leapfrog_update(phi, pi, action, *, dt, n_leap):\n",
    "    pass"
   ]
  },
  {
   "cell_type": "code",
   "execution_count": null,
   "id": "8a600417-be22-4908-9878-30c9fd8ba930",
   "metadata": {},
   "outputs": [],
   "source": [
    "# TODO: plot dH vs dt"
   ]
  },
  {
   "cell_type": "markdown",
   "id": "893b1684-f054-45e1-8d63-e004763cf68f",
   "metadata": {},
   "source": [
    "# MCMC and freezing"
   ]
  },
  {
   "cell_type": "markdown",
   "id": "ec43fc40-93b8-417b-98a9-f38501aa2a56",
   "metadata": {},
   "source": [
    "For $m^2 = -0.5$, we expect the Z2 symmetry breaking transition around $\\lambda \\approx 2$, with $\\lambda < \\lambda_c$ in the broken phase, $\\lambda > \\lambda_c$ in the symmetric phase. See [hep-lat/0506002](http://arxiv.org/abs/hep-lat/0506002)\n",
    "\n",
    "<img src=\"figs/phi4_phase_diagram.png\" width=\"300px\"/>"
   ]
  },
  {
   "cell_type": "code",
   "execution_count": null,
   "id": "dd405aca-7a23-4be3-a643-3040c8c4cd17",
   "metadata": {},
   "outputs": [],
   "source": [
    "def run_hmc(action, *, n_therm, n_iter, n_meas, dt=0.10, n_leap=10):\n",
    "    pass"
   ]
  },
  {
   "cell_type": "code",
   "execution_count": null,
   "id": "6bd5e2e3-07d6-40c7-9627-3198fea8f02d",
   "metadata": {},
   "outputs": [],
   "source": [
    "# actBroken = Phi4Action(m2=-0.5, lam=1.5)\n",
    "# actSymm = Phi4Action(m2=-0.5, lam=4.5)"
   ]
  },
  {
   "cell_type": "code",
   "execution_count": null,
   "id": "551d1662-4860-4c27-9c8d-f626e82e8dde",
   "metadata": {},
   "outputs": [],
   "source": [
    "# resBroken = run_hmc(actBroken, n_therm=100, n_iter=1000, n_meas=1, dt=0.05, n_leap=50)"
   ]
  },
  {
   "cell_type": "code",
   "execution_count": null,
   "id": "0a6f39c3-047a-42a2-b664-b553aba7dd4f",
   "metadata": {},
   "outputs": [],
   "source": [
    "# resSymm = run_hmc(actSymm, n_therm=100, n_iter=1000, n_meas=1, dt=0.05, n_leap=20)"
   ]
  },
  {
   "cell_type": "markdown",
   "id": "c8ccd9ec-7c6d-49e3-9fb2-79a060697ac2",
   "metadata": {},
   "source": [
    "# Sampling using flows"
   ]
  },
  {
   "cell_type": "markdown",
   "id": "e6363160-0c83-4b7d-bec1-abe761d9e83c",
   "metadata": {},
   "source": [
    "Let's concoct a synthetic example of a flow, to see how it can result in sampling interesting distributions. Prior distribution\n",
    "$$\n",
    "r(x_0, x_1) = \\frac{1}{2\\pi} \\exp(-(x_0^2 + x_1^2)/2)\n",
    "$$\n",
    "and flow $\\dot{x} = b(x)$ to be integrated over $t \\in [0,1]$. For this example, we use a velocity designed to create a double-peaked distribution\n",
    "$$\n",
    "b(x) = \\begin{pmatrix}\n",
    "x_0 e^{-x_0^2/2} \\\\ - x_1\n",
    "\\end{pmatrix}\n",
    "$$\n",
    "for which $\\nabla \\cdot b = (1 - x_0^2) e^{-x_0^2/2} - 1$."
   ]
  },
  {
   "cell_type": "code",
   "execution_count": null,
   "id": "293eab60-b886-422b-a682-de11b25a8ca5",
   "metadata": {},
   "outputs": [],
   "source": [
    "# TODO: plot b_0"
   ]
  },
  {
   "cell_type": "code",
   "execution_count": null,
   "id": "3e3cdd23-2703-4d32-b060-483f8d0fde8d",
   "metadata": {},
   "outputs": [],
   "source": [
    "class ToyVelocity:\n",
    "    pass\n",
    "\n",
    "def flow(x, velocity, *, n_step, tf=1.0, inverse=False):\n",
    "    pass"
   ]
  },
  {
   "cell_type": "markdown",
   "id": "61db2029-024e-489a-9ba8-c6ddc6ffa2fa",
   "metadata": {},
   "source": [
    "Change of measure from flow $x = f(x_r)$ is given by\n",
    "$$\n",
    "\\log{q}(x) = \\log{r}(x_r) - \\log{J}_f\n",
    "$$\n",
    "To remember the sign: **stretching** ($\\log{J}_f > 0$) **reduces** the density."
   ]
  },
  {
   "cell_type": "code",
   "execution_count": null,
   "id": "3ea05567-3b6b-4679-b87f-3e62c1062009",
   "metadata": {},
   "outputs": [],
   "source": [
    "def eval_logq(x, tf):\n",
    "    pass"
   ]
  }
 ],
 "metadata": {
  "kernelspec": {
   "display_name": "Python 3 (ipykernel)",
   "language": "python",
   "name": "python3"
  },
  "language_info": {
   "codemirror_mode": {
    "name": "ipython",
    "version": 3
   },
   "file_extension": ".py",
   "mimetype": "text/x-python",
   "name": "python",
   "nbconvert_exporter": "python",
   "pygments_lexer": "ipython3",
   "version": "3.13.5"
  }
 },
 "nbformat": 4,
 "nbformat_minor": 5
}
